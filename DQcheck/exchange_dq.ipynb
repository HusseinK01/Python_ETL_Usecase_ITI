{
 "cells": [
  {
   "cell_type": "code",
   "execution_count": 1,
   "id": "0d427ed2",
   "metadata": {},
   "outputs": [],
   "source": [
    "import pandas as pd"
   ]
  },
  {
   "cell_type": "code",
   "execution_count": 2,
   "id": "12a24bc6",
   "metadata": {},
   "outputs": [],
   "source": [
    "exchange = pd.read_csv('../Extraction/Landing/Exchange/exchange.csv')"
   ]
  },
  {
   "cell_type": "code",
   "execution_count": 3,
   "id": "37875d76",
   "metadata": {},
   "outputs": [],
   "source": [
    "exchange.drop_duplicates(inplace=True)\n",
    "exchange.dropna(inplace=True)"
   ]
  },
  {
   "cell_type": "code",
   "execution_count": 4,
   "id": "c23b2ab0",
   "metadata": {},
   "outputs": [
    {
     "data": {
      "text/plain": [
       "base                    0\n",
       "rates.EGP               0\n",
       "response_timestamp      0\n",
       "extraction_source       0\n",
       "extraction_timestamp    0\n",
       "dtype: int64"
      ]
     },
     "execution_count": 4,
     "metadata": {},
     "output_type": "execute_result"
    }
   ],
   "source": [
    "exchange.isnull().sum()"
   ]
  },
  {
   "cell_type": "code",
   "execution_count": 5,
   "id": "a478dba0",
   "metadata": {},
   "outputs": [
    {
     "data": {
      "text/plain": [
       "0"
      ]
     },
     "execution_count": 5,
     "metadata": {},
     "output_type": "execute_result"
    }
   ],
   "source": [
    "exchange.duplicated().sum()"
   ]
  },
  {
   "cell_type": "code",
   "execution_count": 6,
   "id": "177d9927",
   "metadata": {},
   "outputs": [],
   "source": [
    "import os\n",
    "\n",
    "directory = '../Staging_1/Exchange'\n",
    "file_name = 'exchange.csv'\n",
    "\n",
    "if not os.path.exists(directory):\n",
    "    os.makedirs(directory)\n",
    "\n",
    "exchange.to_csv(os.path.join(directory, file_name), index=False)\n"
   ]
  },
  {
   "cell_type": "code",
   "execution_count": null,
   "id": "74b1da5e",
   "metadata": {},
   "outputs": [],
   "source": []
  }
 ],
 "metadata": {
  "kernelspec": {
   "display_name": "Python 3 (ipykernel)",
   "language": "python",
   "name": "python3"
  },
  "language_info": {
   "codemirror_mode": {
    "name": "ipython",
    "version": 3
   },
   "file_extension": ".py",
   "mimetype": "text/x-python",
   "name": "python",
   "nbconvert_exporter": "python",
   "pygments_lexer": "ipython3",
   "version": "3.11.3"
  }
 },
 "nbformat": 4,
 "nbformat_minor": 5
}
