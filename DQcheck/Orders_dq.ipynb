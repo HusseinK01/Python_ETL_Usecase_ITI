{
 "cells": [
  {
   "cell_type": "code",
   "execution_count": 1,
   "id": "e63c4f76",
   "metadata": {},
   "outputs": [],
   "source": [
    "import pandas as pd"
   ]
  },
  {
   "cell_type": "code",
   "execution_count": 2,
   "id": "47f69ae4",
   "metadata": {},
   "outputs": [],
   "source": [
    "orders = pd.read_csv('../Extraction/Landing/Orders/orders.csv')"
   ]
  },
  {
   "cell_type": "code",
   "execution_count": 3,
   "id": "e27c6cdc",
   "metadata": {},
   "outputs": [],
   "source": [
    "orders.drop_duplicates(inplace=True)\n",
    "orders.dropna(inplace=True)"
   ]
  },
  {
   "cell_type": "code",
   "execution_count": 4,
   "id": "ea2f965e",
   "metadata": {},
   "outputs": [
    {
     "data": {
      "text/plain": [
       "order_id           0\n",
       "customer_id        0\n",
       "order_status       0\n",
       "order_date         0\n",
       "required_date      0\n",
       "shipped_date       0\n",
       "store_id           0\n",
       "staff_id           0\n",
       "source             0\n",
       "timestamp_saved    0\n",
       "dtype: int64"
      ]
     },
     "execution_count": 4,
     "metadata": {},
     "output_type": "execute_result"
    }
   ],
   "source": [
    "orders.isnull().sum()"
   ]
  },
  {
   "cell_type": "code",
   "execution_count": 5,
   "id": "d94528da",
   "metadata": {},
   "outputs": [
    {
     "data": {
      "text/plain": [
       "0"
      ]
     },
     "execution_count": 5,
     "metadata": {},
     "output_type": "execute_result"
    }
   ],
   "source": [
    "orders.duplicated().sum()"
   ]
  },
  {
   "cell_type": "code",
   "execution_count": 6,
   "id": "a65a1c71",
   "metadata": {},
   "outputs": [],
   "source": [
    "orders = orders[(orders['order_date'] >= '2000-01-01') & (orders['order_date'] <= '2024-12-31')]\n",
    "orders = orders[(orders['required_date'] >= '2000-01-01') & (orders['required_date'] <= '2024-12-31')]\n",
    "orders = orders[(orders['shipped_date'] >= '2000-01-01') & (orders['shipped_date'] <= '2024-12-31')]\n"
   ]
  },
  {
   "cell_type": "code",
   "execution_count": 8,
   "id": "736e8121",
   "metadata": {},
   "outputs": [],
   "source": [
    "import os\n",
    "\n",
    "directory = '../Staging_1/Orders'\n",
    "file_name = 'orders.csv'\n",
    "\n",
    "if not os.path.exists(directory):\n",
    "    os.makedirs(directory)\n",
    "\n",
    "orders.to_csv(os.path.join(directory, file_name), index=False)\n"
   ]
  },
  {
   "cell_type": "code",
   "execution_count": null,
   "id": "ee05828b",
   "metadata": {},
   "outputs": [],
   "source": []
  }
 ],
 "metadata": {
  "kernelspec": {
   "display_name": "Python 3 (ipykernel)",
   "language": "python",
   "name": "python3"
  },
  "language_info": {
   "codemirror_mode": {
    "name": "ipython",
    "version": 3
   },
   "file_extension": ".py",
   "mimetype": "text/x-python",
   "name": "python",
   "nbconvert_exporter": "python",
   "pygments_lexer": "ipython3",
   "version": "3.11.3"
  }
 },
 "nbformat": 4,
 "nbformat_minor": 5
}
